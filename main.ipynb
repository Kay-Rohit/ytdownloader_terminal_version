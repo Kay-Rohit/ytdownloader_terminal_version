{
 "cells": [
  {
   "cell_type": "markdown",
   "metadata": {},
   "source": [
    "Youtube Video Downloader in JupiterNotebook"
   ]
  },
  {
   "cell_type": "markdown",
   "metadata": {},
   "source": [
    "importing downloader functions defined in downloader.py file"
   ]
  },
  {
   "cell_type": "code",
   "execution_count": null,
   "metadata": {},
   "outputs": [],
   "source": [
    "from downloader import download_youtube_video\n",
    "from downloader import download_youtube_playlist"
   ]
  },
  {
   "cell_type": "code",
   "execution_count": null,
   "metadata": {},
   "outputs": [],
   "source": [
    "#default path of user's home/user/Videos\n",
    "PATH = \"/home/kay_r0hit/Videos/\"\n",
    "\n",
    "# ask user whether they want to download playlist or a video\n",
    "option = input(\"Enter 1 to download Playlist\\nEnter 2 to download Video : \")"
   ]
  },
  {
   "cell_type": "markdown",
   "metadata": {},
   "source": [
    "Downloading all videos from the playlist\n",
    "\n",
    "user have to enter playlist link (not individual video) to download the video in predefined **videos directory of the home directory under the folder having playlist title** of the user's system"
   ]
  },
  {
   "cell_type": "code",
   "execution_count": null,
   "metadata": {},
   "outputs": [],
   "source": [
    "if(option == '1'): #asks for playlist link\n",
    "    link = input(\"Enter the link of YouTube playlist you want to download:  \")\n",
    "    download_youtube_playlist(link, PATH)\n",
    "    "
   ]
  },
  {
   "cell_type": "markdown",
   "metadata": {},
   "source": [
    "Downloading individual video from the link provided\n",
    "\n",
    "user have to enter video link (not playlist) to download the video in predefined **videos directory of the home directory** of the user's system"
   ]
  },
  {
   "cell_type": "code",
   "execution_count": null,
   "metadata": {},
   "outputs": [],
   "source": [
    "if(option == '2'):\n",
    "    link = input(\"Enter the link of YouTube video you want to download:  \")\n",
    "    download_youtube_video(link, PATH)"
   ]
  }
 ],
 "metadata": {
  "kernelspec": {
   "display_name": "Python 3.10.4 ('yt_downloader_venv')",
   "language": "python",
   "name": "python3"
  },
  "language_info": {
   "codemirror_mode": {
    "name": "ipython",
    "version": 3
   },
   "file_extension": ".py",
   "mimetype": "text/x-python",
   "name": "python",
   "nbconvert_exporter": "python",
   "pygments_lexer": "ipython3",
   "version": "3.10.4"
  },
  "orig_nbformat": 4,
  "vscode": {
   "interpreter": {
    "hash": "ff59b8876e3feafbed42cd79c93c183731da01506c9b584fef0bf6224726748f"
   }
  }
 },
 "nbformat": 4,
 "nbformat_minor": 2
}
